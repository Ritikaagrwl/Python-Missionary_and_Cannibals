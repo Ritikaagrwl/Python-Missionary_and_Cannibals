{
 "cells": [
  {
   "cell_type": "code",
   "execution_count": 46,
   "metadata": {},
   "outputs": [
    {
     "name": "stdout",
     "output_type": "stream",
     "text": [
      "M = 0  C = 0  |_ _ _ _ B|  M = 3  C = 3\n",
      "Invalid move: Total number of people in the boat should be 1 0r 2 only\n",
      "Invalid move: Total number of people in the boat should be 1 0r 2 only\n",
      "You Quit. Game over!\n"
     ]
    }
   ],
   "source": [
    "#step 1 defining variables\n",
    "\n",
    "boat_side = \"Right\"\n",
    "missionaries_left = 0\n",
    "cannibals_left = 0\n",
    "missionaries_right = 3\n",
    "cannibals_right = 3\n",
    "\n",
    "print(\"M =\",missionaries_left, \" C =\",cannibals_left,\" |_ _ _ _ B| \",\"M =\",missionaries_right,\" C =\",cannibals_right)\n",
    "\n",
    "#step 2 taking input from user \n",
    "while True:\n",
    "    missionaries = int(input(\"Enter number of missionaries or enter 10 to quit: \"))\n",
    "    if missionaries == 10:\n",
    "        print(\"You Quit. Game over!\")\n",
    "        break\n",
    "    cannibals = int(input(\"Enter number of cannibals : \"))\n",
    "    \n",
    "    if (missionaries + cannibals) != 1 and (missionaries + cannibals) != 2:\n",
    "        print(\"Invalid move: Total number of people in the boat should be 1 0r 2 only\")\n",
    "        continue\n",
    "\n",
    "#step 3 code when boat is in right side\n",
    "\n",
    "    if boat_side == \"Right\":\n",
    "        if missionaries_right < missionaries or cannibals_right < cannibals:\n",
    "            print(\"Invalid move\")\n",
    "\n",
    "        missionaries_right = missionaries_right - missionaries\n",
    "        cannibals_right = cannibals_right - cannibals\n",
    "\n",
    "        missionaries_left = missionaries_left + missionaries\n",
    "        cannibals_left = cannibals_left + cannibals\n",
    "\n",
    "        print(\"M =\",missionaries_left, \" C =\",cannibals_left,\" |B_ _ _ _| \",\"M =\",missionaries_right,\" C =\",cannibals_right)\n",
    "    \n",
    "        boat_side = \"Left\"\n",
    "    else:\n",
    "        if missionaries_left < missionaries or cannibals_left < cannibals:\n",
    "            print(\"Invalid move\")\n",
    "\n",
    "        missionaries_left = missionaries_left - missionaries\n",
    "        cannibals_left = cannibals_left - cannibals\n",
    "\n",
    "        missionaries_right += missionaries\n",
    "        cannibals_right += cannibals\n",
    "\n",
    "        print(\"M =\",missionaries_left, \" C =\",cannibals_left,\" |_ _ _ _ B| \",\"M =\",missionaries_right,\" C =\",cannibals_right)\n",
    "    \n",
    "        boat_side = \"Right\"\n",
    "\n",
    "#step 5 conditions for game over\n",
    "\n",
    "    if (missionaries_right < cannibals_right and missionaries_right > 0) or (missionaries_left < cannibals_left and missionaries_left > 0):\n",
    "        print(\"You loose\")\n",
    "        break\n",
    "\n",
    "#step 5 conditions for winning game\n",
    "\n",
    "    if missionaries_left == 3 and cannibals_left == 3 :\n",
    "        print(\"You won\")\n",
    "        break\n"
   ]
  },
  {
   "cell_type": "code",
   "execution_count": null,
   "metadata": {},
   "outputs": [],
   "source": []
  },
  {
   "cell_type": "code",
   "execution_count": 47,
   "metadata": {},
   "outputs": [
    {
     "name": "stdout",
     "output_type": "stream",
     "text": [
      "42\n"
     ]
    }
   ],
   "source": []
  },
  {
   "cell_type": "code",
   "execution_count": null,
   "metadata": {},
   "outputs": [],
   "source": []
  }
 ],
 "metadata": {
  "kernelspec": {
   "display_name": "Python 3",
   "language": "python",
   "name": "python3"
  },
  "language_info": {
   "codemirror_mode": {
    "name": "ipython",
    "version": 3
   },
   "file_extension": ".py",
   "mimetype": "text/x-python",
   "name": "python",
   "nbconvert_exporter": "python",
   "pygments_lexer": "ipython3",
   "version": "3.9.6"
  }
 },
 "nbformat": 4,
 "nbformat_minor": 2
}
